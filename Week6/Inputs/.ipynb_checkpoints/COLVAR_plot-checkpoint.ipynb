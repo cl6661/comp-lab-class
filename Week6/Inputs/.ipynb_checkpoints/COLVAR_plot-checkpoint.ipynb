{
 "cells": [
  {
   "cell_type": "code",
   "execution_count": 1,
   "metadata": {},
   "outputs": [
    {
     "name": "stdout",
     "output_type": "stream",
     "text": [
      "                  0          1         2    3    4\n",
      "0                #!     FIELDS      time  phi  psi\n",
      "1                #!        SET   min_phi  -pi  NaN\n",
      "2                #!        SET   max_phi   pi  NaN\n",
      "3                #!        SET   min_psi  -pi  NaN\n",
      "4                #!        SET   max_psi   pi  NaN\n",
      "...             ...        ...       ...  ...  ...\n",
      "1001   99600.000000  -1.889966  2.920658  NaN  NaN\n",
      "1002   99700.000000  -1.314500  1.052728  NaN  NaN\n",
      "1003   99800.000000  -2.480299  2.416171  NaN  NaN\n",
      "1004   99900.000000  -2.295150  2.388883  NaN  NaN\n",
      "1005  100000.000000  -2.678744  2.586141  NaN  NaN\n",
      "\n",
      "[1006 rows x 5 columns]\n"
     ]
    },
    {
     "ename": "NameError",
     "evalue": "name 'traj' is not defined",
     "output_type": "error",
     "traceback": [
      "\u001b[0;31m---------------------------------------------------------------------------\u001b[0m",
      "\u001b[0;31mNameError\u001b[0m                                 Traceback (most recent call last)",
      "Input \u001b[0;32mIn [1]\u001b[0m, in \u001b[0;36m<cell line: 17>\u001b[0;34m()\u001b[0m\n\u001b[1;32m     13\u001b[0m \u001b[38;5;28mprint\u001b[39m(data)\n\u001b[1;32m     14\u001b[0m \u001b[38;5;66;03m# data=np.loadtxt(\"COLVAR_A\",skiprows=4)\u001b[39;00m\n\u001b[1;32m     15\u001b[0m \n\u001b[1;32m     16\u001b[0m \u001b[38;5;66;03m# compute psi\u001b[39;00m\n\u001b[0;32m---> 17\u001b[0m psi\u001b[38;5;241m=\u001b[39mmd\u001b[38;5;241m.\u001b[39mcompute_psi(\u001b[43mtraj\u001b[49m,periodic\u001b[38;5;241m=\u001b[39m\u001b[38;5;28;01mTrue\u001b[39;00m,opt\u001b[38;5;241m=\u001b[39m\u001b[38;5;28;01mTrue\u001b[39;00m)\n\u001b[1;32m     18\u001b[0m y_psi\u001b[38;5;241m=\u001b[39mpsi[\u001b[38;5;241m1\u001b[39m]\u001b[38;5;241m.\u001b[39mflatten()\n\u001b[1;32m     19\u001b[0m \u001b[38;5;66;03m#print(y_psi)\u001b[39;00m\n\u001b[1;32m     20\u001b[0m \n\u001b[1;32m     21\u001b[0m \u001b[38;5;66;03m#compute_phi\u001b[39;00m\n",
      "\u001b[0;31mNameError\u001b[0m: name 'traj' is not defined"
     ]
    }
   ],
   "source": [
    "# this notebook is for plotting the end to end analysis and radius of gyration\n",
    "import numpy as np\n",
    "import pandas as pd\n",
    "from pandas import read_csv\n",
    "from matplotlib.image import NonUniformImage\n",
    "import matplotlib.pyplot as plt\n",
    "\n",
    "#load mdtraj\n",
    "import mdtraj as md\n",
    "import os\n",
    "\n",
    "data = pd.read_csv('./COLVAR_A', header=None, delim_whitespace=True)\n",
    "print(data)\n",
    "# data=np.loadtxt(\"COLVAR_A\",skiprows=4)\n",
    "\n",
    "# compute psi\n",
    "psi=md.compute_psi(traj,periodic=True,opt=True)\n",
    "y_psi=psi[1].flatten()\n",
    "#print(y_psi)\n",
    "\n",
    "#compute_phi\n",
    "phi=md.compute_phi(traj,periodic=True,opt=True)\n",
    "y_phi=phi[1][:,0]\n",
    "#print(y_phi)\n",
    "\n",
    "#contruct time\n",
    "time= np.array(list(range(0,5001)))\n",
    "\n",
    "#plot\n",
    "# plt.plot(time,y_psi,label=\"psi\")\n",
    "# plt.plot(time,y_phi,label=\"phi\")\n",
    "# plt.legend(loc=\"upper right\")\n",
    "# plt.legend(loc=\"upper right\")\n",
    "# plt.xlabel('Time (ps)')\n",
    "# plt.ylabel('Angle (rad)')\n",
    "# plt.title('psi and phi dihedral angle')\n",
    "# plt.xlim([0,5000])\n",
    "# plt.savefig('psi vs phi.pdf',format='pdf',bbox_inches='tight',pad_inches=0.1)\n",
    "# plt.show()\n",
    "\n",
    "# plt.plot(time,y_psi)\n",
    "# plt.xlabel('Time (ps)')\n",
    "# plt.ylabel('Angle (rad)')\n",
    "# plt.title('psi vs time')\n",
    "# plt.xlim([0,5000])\n",
    "# plt.savefig('psi vs time.pdf',format='pdf',bbox_inches='tight',pad_inches=0.1)\n",
    "# plt.show()\n",
    "\n",
    "# plt.plot(time,y_phi)\n",
    "# plt.xlabel('Time (ps)')\n",
    "# plt.ylabel('Angle (degree)')\n",
    "# plt.title('phi vs time')\n",
    "# plt.xlim([0,5000])\n",
    "# plt.savefig('phi vs time.pdf',format='pdf',bbox_inches='tight',pad_inches=0.1)\n",
    "# plt.show()"
   ]
  },
  {
   "cell_type": "code",
   "execution_count": null,
   "metadata": {},
   "outputs": [],
   "source": []
  }
 ],
 "metadata": {
  "kernelspec": {
   "display_name": "lab_env",
   "language": "python",
   "name": "lab_env"
  },
  "language_info": {
   "codemirror_mode": {
    "name": "ipython",
    "version": 3
   },
   "file_extension": ".py",
   "mimetype": "text/x-python",
   "name": "python",
   "nbconvert_exporter": "python",
   "pygments_lexer": "ipython3",
   "version": "3.9.12"
  }
 },
 "nbformat": 4,
 "nbformat_minor": 4
}
