{
 "cells": [
  {
   "cell_type": "code",
   "execution_count": 2,
   "metadata": {},
   "outputs": [
    {
     "name": "stdout",
     "output_type": "stream",
     "text": [
      "             0         1         2\n",
      "0          0.0 -1.257768  2.877951\n",
      "1        100.0 -2.005599  2.704877\n",
      "2        200.0 -2.634441  2.540699\n",
      "3        300.0 -1.343693  1.117560\n",
      "4        400.0 -2.430512  2.661159\n",
      "...        ...       ...       ...\n",
      "996    99600.0 -1.889966  2.920658\n",
      "997    99700.0 -1.314500  1.052728\n",
      "998    99800.0 -2.480299  2.416171\n",
      "999    99900.0 -2.295150  2.388883\n",
      "1000  100000.0 -2.678744  2.586141\n",
      "\n",
      "[1001 rows x 3 columns]\n"
     ]
    }
   ],
   "source": [
    "# this notebook is for plotting the end to end analysis and radius of gyration\n",
    "import numpy as np\n",
    "import pandas as pd\n",
    "from pandas import read_csv\n",
    "from matplotlib.image import NonUniformImage\n",
    "import matplotlib.pyplot as plt\n",
    "\n",
    "#load mdtraj\n",
    "import mdtraj as md\n",
    "import os\n",
    "\n",
    "data = pd.read_csv('./COLVAR_A', header=None, delim_whitespace=True,skiprows=5)\n",
    "print(data)\n",
    "# data=np.loadtxt(\"COLVAR_A\",skiprows=4)\n",
    "\n",
    "# compute psi\n",
    "# psi=md.compute_psi(traj,periodic=True,opt=True)\n",
    "# y_psi=psi[1].flatten()\n",
    "#print(y_psi)\n",
    "\n",
    "#compute_phi\n",
    "# phi=md.compute_phi(traj,periodic=True,opt=True)\n",
    "# y_phi=phi[1][:,0]\n",
    "#print(y_phi)\n",
    "\n",
    "#contruct time\n",
    "# time= np.array(list(range(0,5001)))\n",
    "\n",
    "#plot\n",
    "# plt.plot(time,y_psi,label=\"psi\")\n",
    "# plt.plot(time,y_phi,label=\"phi\")\n",
    "# plt.legend(loc=\"upper right\")\n",
    "# plt.legend(loc=\"upper right\")\n",
    "# plt.xlabel('Time (ps)')\n",
    "# plt.ylabel('Angle (rad)')\n",
    "# plt.title('psi and phi dihedral angle')\n",
    "# plt.xlim([0,5000])\n",
    "# plt.savefig('psi vs phi.pdf',format='pdf',bbox_inches='tight',pad_inches=0.1)\n",
    "# plt.show()\n",
    "\n",
    "# plt.plot(time,y_psi)\n",
    "# plt.xlabel('Time (ps)')\n",
    "# plt.ylabel('Angle (rad)')\n",
    "# plt.title('psi vs time')\n",
    "# plt.xlim([0,5000])\n",
    "# plt.savefig('psi vs time.pdf',format='pdf',bbox_inches='tight',pad_inches=0.1)\n",
    "# plt.show()\n",
    "\n",
    "# plt.plot(time,y_phi)\n",
    "# plt.xlabel('Time (ps)')\n",
    "# plt.ylabel('Angle (degree)')\n",
    "# plt.title('phi vs time')\n",
    "# plt.xlim([0,5000])\n",
    "# plt.savefig('phi vs time.pdf',format='pdf',bbox_inches='tight',pad_inches=0.1)\n",
    "# plt.show()"
   ]
  },
  {
   "cell_type": "code",
   "execution_count": null,
   "metadata": {},
   "outputs": [],
   "source": []
  }
 ],
 "metadata": {
  "kernelspec": {
   "display_name": "lab_env",
   "language": "python",
   "name": "lab_env"
  },
  "language_info": {
   "codemirror_mode": {
    "name": "ipython",
    "version": 3
   },
   "file_extension": ".py",
   "mimetype": "text/x-python",
   "name": "python",
   "nbconvert_exporter": "python",
   "pygments_lexer": "ipython3",
   "version": "3.9.12"
  }
 },
 "nbformat": 4,
 "nbformat_minor": 4
}
