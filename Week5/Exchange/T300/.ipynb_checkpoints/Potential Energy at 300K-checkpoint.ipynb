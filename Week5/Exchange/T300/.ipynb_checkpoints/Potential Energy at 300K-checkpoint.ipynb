{
 "cells": [
  {
   "cell_type": "code",
   "execution_count": 10,
   "metadata": {},
   "outputs": [
    {
     "name": "stdout",
     "output_type": "stream",
     "text": [
      "[[   0.        -37.616516]\n",
      " [  10.        -34.58905 ]\n",
      " [  20.        -40.5242  ]\n",
      " ...\n",
      " [4980.         -8.758301]\n",
      " [4990.        -39.805115]\n",
      " [5000.        -35.99585 ]]\n"
     ]
    }
   ],
   "source": [
    "import matplotlib.pyplot as plt\n",
    "import numpy as np\n",
    "import os\n",
    "\n",
    "data = np.loadtxt(\"energy.xvg\",skiprows=24)\n",
    "print(data)\n",
    "\n",
    "# plt.plot(data[::1000,0], data[::1000,1])\n",
    "# plt.xlabel('Time (ps)')\n",
    "# plt.ylabel('Replica Index')\n",
    "# plt.title('Potential Energy at 300K ps')\n",
    "# plt.yticks(np.arange(0, max(data[::1000,1]+1), 1))\n",
    "# plt.ylim([0,3.2])\n",
    "# plt.xlim([0,5000])\n",
    "# plt.savefig('Potential Energy at 300K.pdf',format='pdf',bbox_inches='tight',pad_inches=0.1)\n",
    "# plt.show()"
   ]
  },
  {
   "cell_type": "code",
   "execution_count": null,
   "metadata": {},
   "outputs": [],
   "source": []
  }
 ],
 "metadata": {
  "kernelspec": {
   "display_name": "lab_env",
   "language": "python",
   "name": "lab_env"
  },
  "language_info": {
   "codemirror_mode": {
    "name": "ipython",
    "version": 3
   },
   "file_extension": ".py",
   "mimetype": "text/x-python",
   "name": "python",
   "nbconvert_exporter": "python",
   "pygments_lexer": "ipython3",
   "version": "3.9.12"
  }
 },
 "nbformat": 4,
 "nbformat_minor": 4
}
