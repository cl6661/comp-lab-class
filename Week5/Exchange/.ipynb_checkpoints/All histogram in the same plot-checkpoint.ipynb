{
 "cells": [
  {
   "cell_type": "code",
   "execution_count": 4,
   "metadata": {},
   "outputs": [
    {
     "name": "stdout",
     "output_type": "stream",
     "text": [
      "[[   0.        -37.616516]\n",
      " [  10.        -34.58905 ]\n",
      " [  20.        -40.5242  ]\n",
      " ...\n",
      " [4980.         -8.758301]\n",
      " [4990.        -39.805115]\n",
      " [5000.        -35.99585 ]]\n",
      "[[ 0.0000000e+00 -3.7616516e+01]\n",
      " [ 1.0000000e+01 -1.2717987e+01]\n",
      " [ 2.0000000e+01 -1.1510310e+00]\n",
      " ...\n",
      " [ 4.9800000e+03 -3.1329559e+01]\n",
      " [ 4.9900000e+03 -7.1499330e+00]\n",
      " [ 5.0000000e+03 -1.9434326e+01]]\n",
      "[[ 0.0000000e+00 -3.7616516e+01]\n",
      " [ 1.0000000e+01 -1.0026520e+01]\n",
      " [ 2.0000000e+01 -1.6774600e+00]\n",
      " ...\n",
      " [ 4.9800000e+03  5.1684600e-01]\n",
      " [ 4.9900000e+03 -3.4505310e+01]\n",
      " [ 5.0000000e+03 -1.9748840e+01]]\n",
      "[[ 0.0000000e+00 -3.7616516e+01]\n",
      " [ 1.0000000e+01  7.9005430e+00]\n",
      " [ 2.0000000e+01  1.7871552e+01]\n",
      " ...\n",
      " [ 4.9800000e+03 -1.6657710e+00]\n",
      " [ 4.9900000e+03 -1.2130157e+01]\n",
      " [ 5.0000000e+03  1.2968201e+01]]\n"
     ]
    }
   ],
   "source": [
    "import matplotlib.pyplot as plt\n",
    "import numpy as np\n",
    "import os\n",
    "\n",
    "data_300 = np.loadtxt(\"T300/energy.xvg\",skiprows=24)\n",
    "print(data_300)\n",
    "\n",
    "data_420 = np.loadtxt(\"T420/energy.xvg\",skiprows=24)\n",
    "print(data_420)\n",
    "\n",
    "data_540 = np.loadtxt(\"T540/energy.xvg\",skiprows=24)\n",
    "print(data_540)\n",
    "\n",
    "data_660 = np.loadtxt(\"T660/energy.xvg\",skiprows=24)\n",
    "print(data_660)"
   ]
  },
  {
   "cell_type": "code",
   "execution_count": null,
   "metadata": {},
   "outputs": [],
   "source": []
  }
 ],
 "metadata": {
  "kernelspec": {
   "display_name": "lab_env",
   "language": "python",
   "name": "lab_env"
  },
  "language_info": {
   "codemirror_mode": {
    "name": "ipython",
    "version": 3
   },
   "file_extension": ".py",
   "mimetype": "text/x-python",
   "name": "python",
   "nbconvert_exporter": "python",
   "pygments_lexer": "ipython3",
   "version": "3.9.12"
  }
 },
 "nbformat": 4,
 "nbformat_minor": 4
}
