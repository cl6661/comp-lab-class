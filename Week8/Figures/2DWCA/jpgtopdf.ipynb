{
 "cells": [
  {
   "cell_type": "code",
   "execution_count": 2,
   "metadata": {},
   "outputs": [],
   "source": [
    "# convert jpg to pdf\n",
    "# load jpg files from this folder\n",
    "# save pdf files to this folder\n",
    "from reportlab.lib.enums import TA_JUSTIFY\n",
    "from reportlab.lib.pagesizes import letter\n",
    "from reportlab.platypus import SimpleDocTemplate, Paragraph, Spacer, Image\n",
    "from reportlab.lib.styles import getSampleStyleSheet, ParagraphStyle\n",
    "from reportlab.lib.units import inch\n",
    "\n",
    "doc = SimpleDocTemplate(\"all_figures.pdf\")\n",
    "Story=[]\n",
    "styleSheet = getSampleStyleSheet()\n",
    "style = styleSheet[\"Normal\"]\n",
    "style.wordWrap = 'CJK'\n",
    "style.fontName = 'Helvetica'\n",
    "style.fontSize = 12\n",
    "style.leading = 12\n",
    "\n",
    "# load jpg files from this folder\n",
    "import os\n",
    "import glob\n",
    "os.chdir(\".\")\n",
    "# load jpg files from this folder and sort them by name\n",
    "for file in sorted(glob.glob(\"*.jpg\")):\n",
    "    # add the figure\n",
    "    im = Image(file, 5*inch, 5*inch)\n",
    "    Story.append(im)\n",
    "    Story.append(Spacer(1, 12))\n",
    "    # add the file name before the figure\n",
    "    Story.append(Paragraph(file, style))\n",
    "    # next page\n",
    "    # Story.append(PageBreak())\n",
    "\n",
    "doc.build(Story)"
   ]
  }
 ],
 "metadata": {
  "kernelspec": {
   "display_name": "lab_env",
   "language": "python",
   "name": "lab_env"
  },
  "language_info": {
   "codemirror_mode": {
    "name": "ipython",
    "version": 3
   },
   "file_extension": ".py",
   "mimetype": "text/x-python",
   "name": "python",
   "nbconvert_exporter": "python",
   "pygments_lexer": "ipython3",
   "version": "3.9.12"
  },
  "orig_nbformat": 4,
  "vscode": {
   "interpreter": {
    "hash": "5b3ded1ccb95c1d9bd405e7b823d9e85424cde40fbb5985eb47e999ef50e15b4"
   }
  }
 },
 "nbformat": 4,
 "nbformat_minor": 2
}
