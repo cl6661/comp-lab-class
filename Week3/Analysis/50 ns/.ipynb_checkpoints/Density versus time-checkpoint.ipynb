{
 "cells": [
  {
   "cell_type": "code",
   "execution_count": null,
   "metadata": {},
   "outputs": [],
   "source": [
    "import mdtraj as md\n",
    "import matplotlib.pyplot as plt\n",
    "import numpy as np\n",
    "import os\n",
    "\n",
    "data=np.loadtxt(\"density.xvg\",skiprows=24)\n",
    "#print(data)\n",
    "time=data[:,0]\n",
    "density=data[:,1]\n",
    "plt.plot(time,density)\n",
    "plt.xlabel('Time (ps)')\n",
    "plt.ylabel('Density (kg/m^3)')\n",
    "plt.title('Density')\n",
    "plt.xlim([0,100])\n",
    "plt.savefig('Density_50ns.pdf',format='pdf',bbox_inches='tight',pad_inches=0.1)\n",
    "plt.show()"
   ]
  },
  {
   "cell_type": "code",
   "execution_count": null,
   "metadata": {},
   "outputs": [],
   "source": []
  }
 ],
 "metadata": {
  "kernelspec": {
   "display_name": "lab_env",
   "language": "python",
   "name": "lab_env"
  },
  "language_info": {
   "codemirror_mode": {
    "name": "ipython",
    "version": 3
   },
   "file_extension": ".py",
   "mimetype": "text/x-python",
   "name": "python",
   "nbconvert_exporter": "python",
   "pygments_lexer": "ipython3",
   "version": "3.9.12"
  }
 },
 "nbformat": 4,
 "nbformat_minor": 4
}
