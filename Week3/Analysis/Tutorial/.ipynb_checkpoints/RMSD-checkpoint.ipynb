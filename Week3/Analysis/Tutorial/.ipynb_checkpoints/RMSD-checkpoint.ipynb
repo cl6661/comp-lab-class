{
 "cells": [
  {
   "cell_type": "code",
   "execution_count": null,
   "metadata": {},
   "outputs": [],
   "source": [
    "import mdtraj as md\n",
    "import matplotlib.pyplot as plt\n",
    "import numpy as np\n",
    "import os\n",
    "#f = open(\"potential.xvg\", \"r\")\n",
    "#print(f.read())\n",
    "data=np.loadtxt(\"rmsd.xvg\",skiprows=24)\n",
    "xtaldata=np.loadtxt(\"rmsd_xtal.xvg\",skiprows=24)\n",
    "#print(data)\n",
    "step=data[:,0]\n",
    "rmsd=data[:,1]\n",
    "rmsdxtal=xtaldata[:,1]\n",
    "plt.plot(step,rmsd)\n",
    "plt.xlabel('Energy Minimization Step')\n",
    "plt.ylabel('Potential Energy (kJ/mol)')\n",
    "plt.title('Energy Minimization')\n",
    "plt.xlim([0,800])\n",
    "#plt.savefig('Potential',format='pdf',bbox_inches='tight',pad_inches=0.1)\n",
    "plt.show()"
   ]
  },
  {
   "cell_type": "code",
   "execution_count": null,
   "metadata": {},
   "outputs": [],
   "source": [
    "plt.plot(traj.time, dist, label=\"End to End Distance\")\n",
    "\n",
    "#plot radius vs time\n",
    "plt.plot(traj.time, radius, label=\"Radius of Gyration\")\n",
    "plt.legend(loc=\"upper right\")\n",
    "plt.xlabel('Time (ps)')\n",
    "plt.ylabel('Distance (nm)')\n",
    "plt.title('End to End Distance and Radius of Gyration')\n",
    "plt.savefig('End to End Distance and Radius of Gyration',format='pdf',bbox_inches='tight',pad_inches=0.1)\n",
    "plt.show()"
   ]
  }
 ],
 "metadata": {
  "kernelspec": {
   "display_name": "lab_env",
   "language": "python",
   "name": "lab_env"
  },
  "language_info": {
   "codemirror_mode": {
    "name": "ipython",
    "version": 3
   },
   "file_extension": ".py",
   "mimetype": "text/x-python",
   "name": "python",
   "nbconvert_exporter": "python",
   "pygments_lexer": "ipython3",
   "version": "3.9.12"
  }
 },
 "nbformat": 4,
 "nbformat_minor": 4
}
