{
 "cells": [
  {
   "cell_type": "code",
   "execution_count": null,
   "metadata": {},
   "outputs": [
    {
     "name": "stdout",
     "output_type": "stream",
     "text": [
      "<mdtraj.Trajectory with 901 frames, 11639 atoms, 3889 residues, and unitcells>\n"
     ]
    }
   ],
   "source": [
    "# this notebook is for plotting\n",
    "# the end to end analysis\n",
    "import numpy as np\n",
    "import matplotlib.pyplot as plt\n",
    "#load mdtraj\n",
    "import mdtraj as md\n",
    "import os\n",
    "# change python directory \n",
    "#os.chdir('/scratch/work/courses/CHEM-GA-2671-2022fa/cl6661/comp-lab-class/Week4/Data/trp-cage/')\n",
    "#os.getcwd()\n",
    "# load the trajectory\n",
    "traj = md.load('ions-in-water_center-Copy1.xtc', top='step5_9_noPBC.gro')\n",
    "print(traj)\n",
    "#os.chdir('/scratch/work/courses/CHEM-GA-2671-2022fa/cl6661/comp-lab-class/Week4/Analysis/trp-cage/')\n",
    "\n",
    "# compute the distance between the first and last atom\n",
    "def end_end(traj):\n",
    "    # get the first and last atom\n",
    "    first = traj.xyz[:,0,:]\n",
    "    last = traj.xyz[:,-1,:]\n",
    "    # compute the distance between the first and last atom\n",
    "    dist = np.sqrt(np.sum((first-last)**2, axis=1))\n",
    "    return dist\n",
    "\n",
    "# compute the distance between the first and last atom\n",
    "dist = end_end(traj)\n",
    "\n",
    "# compute the radius of gyration\n",
    "radius = md.compute_rg(traj, masses=None)\n",
    "\n",
    "#plot distance vs time\n",
    "plt.plot(traj.time, dist)\n",
    "# make this plot look nice\n",
    "plt.xlabel('Time (ps)')\n",
    "plt.ylabel('Distance (nm)')\n",
    "plt.title('End to End Distance')\n",
    "plt.savefig('End to End Distance of ions-in-water.pdf',format='pdf',bbox_inches='tight',pad_inches=0.1)\n",
    "plt.show()\n",
    "\n",
    "#plot radius of gyration vs time\n",
    "plt.plot(traj.time, radius)\n",
    "plt.xlabel('Time (ps)')\n",
    "plt.ylabel('Distance (nm)')\n",
    "plt.title('Radius of gyration')\n",
    "plt.savefig('Radius of Gyration of ions-in-water.pdf',format='pdf',bbox_inches='tight',pad_inches=0.1)\n",
    "plt.show()"
   ]
  },
  {
   "cell_type": "code",
   "execution_count": null,
   "metadata": {},
   "outputs": [],
   "source": []
  }
 ],
 "metadata": {
  "kernelspec": {
   "display_name": "lab_env",
   "language": "python",
   "name": "lab_env"
  },
  "language_info": {
   "codemirror_mode": {
    "name": "ipython",
    "version": 3
   },
   "file_extension": ".py",
   "mimetype": "text/x-python",
   "name": "python",
   "nbconvert_exporter": "python",
   "pygments_lexer": "ipython3",
   "version": "3.9.12"
  },
  "vscode": {
   "interpreter": {
    "hash": "31f2aee4e71d21fbe5cf8b01ff0e069b9275f58929596ceb00d14d90e3e16cd6"
   }
  }
 },
 "nbformat": 4,
 "nbformat_minor": 4
}
