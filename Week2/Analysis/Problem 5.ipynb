{
 "cells": [
  {
   "cell_type": "code",
   "execution_count": 1,
   "metadata": {},
   "outputs": [
    {
     "name": "stdout",
     "output_type": "stream",
     "text": [
      "<mdtraj.Trajectory with 1 frames, 1405 atoms, 134 residues, and unitcells>\n"
     ]
    }
   ],
   "source": [
    "import mdtraj as md\n",
    "import os\n",
    "# change python directory to /home/gmh4/projects/CompLab/comp-lab-class\n",
    "os.chdir('/scratch/work/courses/CHEM-GA-2671-2022fa/cl6661/comp-lab-class/Week2/Data')\n",
    "\n",
    "#read in the ubiquitin structure\n",
    "traj = md.load_pdb('1UBQ_processed.pdb')\n",
    "print(traj)\n",
    "\n",
    "#change directory back to analysis\n",
    "os.chdir('/scratch/work/courses/CHEM-GA-2671-2022fa/cl6661/comp-lab-class/Week2/Analysis')"
   ]
  },
  {
   "cell_type": "code",
   "execution_count": 2,
   "metadata": {},
   "outputs": [
    {
     "name": "stdout",
     "output_type": "stream",
     "text": [
      "MET1-N -- VAL17-O\n",
      "ILE3-N -- LEU15-O\n",
      "PHE4-N -- SER65-O\n",
      "VAL5-N -- ILE13-O\n",
      "LYS6-N -- LEU67-O\n",
      "THR7-N -- LYS11-O\n",
      "THR9-N -- THR7-OG1\n",
      "GLY10-N -- THR7-O\n",
      "ILE13-N -- VAL5-O\n",
      "LEU15-N -- ILE3-O\n",
      "VAL17-N -- MET1-O\n",
      "GLU18-N -- ASP21-OD2\n",
      "ASP21-N -- GLU18-O\n",
      "ILE23-N -- ARG54-O\n",
      "GLU24-N -- ASP52-O\n",
      "ASN25-N -- THR22-OG1\n",
      "ASN25-N -- THR22-O\n",
      "VAL26-N -- THR22-O\n",
      "LYS27-N -- ILE23-O\n",
      "LYS27-NZ -- ASP52-OD2\n",
      "ALA28-N -- GLU24-O\n",
      "LYS29-N -- ASN25-O\n",
      "LYS29-NZ -- GLU16-O\n",
      "ILE30-N -- VAL26-O\n",
      "GLN31-N -- LYS27-O\n",
      "ASP32-N -- ALA28-O\n",
      "LYS33-N -- LYS29-O\n",
      "GLU34-N -- ILE30-O\n",
      "GLY35-N -- GLN31-O\n",
      "GLN40-N -- PRO37-O\n",
      "GLN41-N -- PRO38-O\n",
      "GLN41-NE2 -- ILE36-O\n",
      "GLN41-NE2 -- LYS27-O\n",
      "ARG42-N -- VAL70-O\n",
      "ARG42-NE -- GLN49-NE2\n",
      "ILE44-N -- HIS68-O\n",
      "PHE45-N -- LYS48-O\n",
      "LYS48-N -- PHE45-O\n",
      "LEU50-N -- LEU43-O\n",
      "GLU51-N -- TYR59-OH\n",
      "ARG54-N -- GLU51-O\n",
      "THR55-N -- ASP58-OD1\n",
      "LEU56-N -- ASP21-O\n",
      "SER57-N -- PRO19-O\n",
      "ASP58-N -- THR55-OG1\n",
      "ASP58-N -- THR55-O\n",
      "TYR59-N -- LEU56-O\n",
      "ASN60-N -- SER57-O\n",
      "ILE61-N -- LEU56-O\n",
      "GLU64-N -- GLN2-O\n",
      "SER65-N -- GLN62-O\n",
      "LEU67-N -- PHE4-O\n",
      "HIS68-N -- ILE44-O\n",
      "LEU69-N -- LYS6-O\n",
      "VAL70-N -- ARG42-O\n",
      "ARG72-N -- GLN40-O\n",
      "ARG72-NH2 -- GLN41-O\n",
      "Number of hydrogen bonds: 57\n"
     ]
    }
   ],
   "source": [
    "#print the total number of hydrogen bonds\n",
    "hbonds = md.baker_hubbard(traj, periodic=False)\n",
    "label = lambda hbond : '%s -- %s' % (traj.topology.atom(hbond[0]), traj.topology.atom(hbond[2]))\n",
    "for hbond in hbonds:\n",
    "    print(label(hbond))\n",
    "print('Number of hydrogen bonds: ' + str(len(hbonds)))"
   ]
  },
  {
   "cell_type": "code",
   "execution_count": 3,
   "metadata": {
    "scrolled": true
   },
   "outputs": [
    {
     "name": "stdout",
     "output_type": "stream",
     "text": [
      "Number of helical amino acids: 18\n"
     ]
    }
   ],
   "source": [
    "#compute the number of helical amino acids\n",
    "structure = md.compute_dssp(traj, simplified=True)\n",
    "def countX(lst, x):\n",
    "    count = 0\n",
    "    for ele in lst:\n",
    "        if (ele == x):\n",
    "            count = count + 1\n",
    "    return count\n",
    "helix=countX(structure[0],'H')\n",
    "print('Number of helical amino acids: ' + str(helix))"
   ]
  }
 ],
 "metadata": {
  "kernelspec": {
   "display_name": "lab_env",
   "language": "python",
   "name": "lab_env"
  },
  "language_info": {
   "codemirror_mode": {
    "name": "ipython",
    "version": 3
   },
   "file_extension": ".py",
   "mimetype": "text/x-python",
   "name": "python",
   "nbconvert_exporter": "python",
   "pygments_lexer": "ipython3",
   "version": "3.9.12"
  }
 },
 "nbformat": 4,
 "nbformat_minor": 4
}
